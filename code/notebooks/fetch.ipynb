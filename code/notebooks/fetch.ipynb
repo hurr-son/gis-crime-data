{
 "cells": [
  {
   "cell_type": "code",
   "execution_count": 1,
   "metadata": {},
   "outputs": [
    {
     "name": "stdout",
     "output_type": "stream",
     "text": [
      "Failed to download tile.\n"
     ]
    }
   ],
   "source": [
    "import requests\n",
    "import json\n",
    "\n",
    "# Define the service URL\n",
    "service_url = \"https://services.arcgis.com/jIL9msH9OI208GCb/ArcGIS/rest/services/HOLC_Neighborhood_Redlining/FeatureServer/0/query\"\n",
    "\n",
    "# Define the parameters for the query\n",
    "params = {\n",
    "    'where': '1=1',  # No filter, fetch all data\n",
    "    'outFields': '*',  # Fetch all fields\n",
    "    'f': 'geojson'  # Request the data in GeoJSON format\n",
    "}\n",
    "\n",
    "# Make the GET request to fetch the data\n",
    "response = requests.get(service_url, params=params)\n",
    "\n",
    "# Check if the request was successful\n",
    "if response.status_code == 200:\n",
    "    # Parse the JSON response\n",
    "    data = response.json()\n",
    "    \n",
    "    # Save the JSON response as a GeoJSON file\n",
    "    with open('HOLC_Neighborhood_Redlining.geojson', 'w') as f:\n",
    "        json.dump(data, f)\n",
    "    \n",
    "    print(\"Data has been successfully saved as HOLC_Neighborhood_Redlining.geojson\")\n",
    "else:\n",
    "    print(f\"Failed to fetch data. Status code: {response.status_code}\")\n",
    "\n"
   ]
  }
 ],
 "metadata": {
  "kernelspec": {
   "display_name": "Python 3",
   "language": "python",
   "name": "python3"
  },
  "language_info": {
   "codemirror_mode": {
    "name": "ipython",
    "version": 3
   },
   "file_extension": ".py",
   "mimetype": "text/x-python",
   "name": "python",
   "nbconvert_exporter": "python",
   "pygments_lexer": "ipython3",
   "version": "3.10.14"
  }
 },
 "nbformat": 4,
 "nbformat_minor": 2
}
